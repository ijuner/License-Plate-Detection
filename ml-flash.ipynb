{
 "cells": [
  {
   "cell_type": "code",
   "execution_count": 1,
   "metadata": {},
   "outputs": [
    {
     "name": "stdout",
     "output_type": "stream",
     "text": [
      " * Serving Flask app '__main__'\n",
      " * Debug mode: off\n"
     ]
    },
    {
     "name": "stderr",
     "output_type": "stream",
     "text": [
      "WARNING: This is a development server. Do not use it in a production deployment. Use a production WSGI server instead.\n",
      " * Running on all addresses (0.0.0.0)\n",
      " * Running on http://127.0.0.1:5000\n",
      " * Running on http://10.144.104.238:5000\n",
      "Press CTRL+C to quit\n",
      "127.0.0.1 - - [07/Feb/2025 13:56:42] \"GET /service HTTP/1.1\" 200 -\n"
     ]
    },
    {
     "name": "stdout",
     "output_type": "stream",
     "text": [
      "Response Status Code: 200\n",
      "Response JSON: {'message': 'Service is running'}\n"
     ]
    }
   ],
   "source": [
    "\"\"\"\n",
    "This Jupyter Notebook prepares a work environment that:\n",
    "1. Instantiates and starts a Flask web server with an ML service.\n",
    "2. Sets up a client-side to send a GET request and display the response.\n",
    "\"\"\"\n",
    "\n",
    "import threading\n",
    "import time\n",
    "import requests\n",
    "from flask import Flask, jsonify\n",
    "\n",
    "# Define the ML Service\n",
    "class MLService:\n",
    "    def __init__(self, host='0.0.0.0', port=5000):\n",
    "        self.host = host\n",
    "        self.port = port\n",
    "        self.app = Flask(__name__)\n",
    "        self.setup_routes()\n",
    "    \n",
    "    def setup_routes(self):\n",
    "        @self.app.route('/service', methods=['GET'])\n",
    "        def service():\n",
    "            return jsonify({'message': 'Service is running'}), 200\n",
    "    \n",
    "    def run(self):\n",
    "        self.app.run(host=self.host, port=self.port, debug=False, use_reloader=False)\n",
    "\n",
    "# Start the ML Service in a separate thread\n",
    "def start_service():\n",
    "    service = MLService()\n",
    "    service.run()\n",
    "\n",
    "service_thread = threading.Thread(target=start_service)\n",
    "service_thread.daemon = True\n",
    "service_thread.start()\n",
    "\n",
    "# Allow server to start\n",
    "time.sleep(2)\n",
    "\n",
    "# Client-side: Send a GET request and display the response\n",
    "response = requests.get(\"http://127.0.0.1:5000/service\")\n",
    "print(\"Response Status Code:\", response.status_code)\n",
    "print(\"Response JSON:\", response.json())\n"
   ]
  }
 ],
 "metadata": {
  "kernelspec": {
   "display_name": "Helena_AI_Venv",
   "language": "python",
   "name": "python3"
  },
  "language_info": {
   "codemirror_mode": {
    "name": "ipython",
    "version": 3
   },
   "file_extension": ".py",
   "mimetype": "text/x-python",
   "name": "python",
   "nbconvert_exporter": "python",
   "pygments_lexer": "ipython3",
   "version": "3.11.3"
  }
 },
 "nbformat": 4,
 "nbformat_minor": 2
}
